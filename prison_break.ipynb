{
 "cells": [
  {
   "cell_type": "markdown",
   "metadata": {},
   "source": [
    "# Prison Break\n",
    "(not the show)\n",
    "\n",
    "---\n",
    "\n",
    "This project explores prison breaks with an intent to learn the following:\n",
    "- Obtaining real data from the internet and preparing it for analysis\n",
    "- Analyzing the data using Python\n",
    "\n",
    "Specifically, we'll answer the following questions:\n",
    "- In which year did the most helicopter prison break attempts occur?\n",
    "- In which countries do the most attempted helicopter prison breaks occur?\n",
    "\n",
    "We'll use Python to create a frequency table showing our results. As seen in the table below, France leads with the highest number of attempted helicopter prison breaks:\n",
    "\n",
    "| Country | Number of Occurrences |\n",
    "| --- | --- |\n",
    "| France | 15 |\n",
    "| United States\t| 8 |\n",
    "| Belgium | 4 |\n",
    "| Canada | 4 |\n",
    "| Greece | 4 |\n",
    "| Australia | 2 |\n",
    "| Brazil | 2 |\n",
    "| United Kingdom | 2 |\n",
    "| Mexico | 1 |\n",
    "| Ireland | 1 |\n",
    "| Italy | 1 |\n",
    "| Puerto Rico | 1 |\n",
    "| Chile\t| 1 |\n",
    "| Netherlands | 1 |\n",
    "| Russia | 1 |\n",
    "\n",
    "As mentioned earlier, this project works with real-life data and we get it straight from a frequently updated [Wikipedia Article](https://en.wikipedia.org/wiki/List_of_helicopter_prison_escapes#Actual_attempts).\n",
    "\n",
    "`helper.py` is a module containing useful \"helper\" functions that we'll need for this project. Let's get into it."
   ]
  },
  {
   "cell_type": "markdown",
   "metadata": {},
   "source": [
    "## Helper functions\n",
    "We begin by importing the helper functions."
   ]
  },
  {
   "cell_type": "code",
   "execution_count": 7,
   "metadata": {},
   "outputs": [],
   "source": [
    "# Import statements\n",
    "from helper import *"
   ]
  },
  {
   "cell_type": "markdown",
   "metadata": {},
   "source": [
    "## Get the Data\n",
    "Now, let's get the data from the [List of helicopter prison escapes](https://en.wikipedia.org/wiki/List_of_helicopter_prison_escapes) Wikipedia article and print the first three rows."
   ]
  },
  {
   "cell_type": "code",
   "execution_count": 8,
   "metadata": {},
   "outputs": [
    {
     "name": "stdout",
     "output_type": "stream",
     "text": [
      "['August 19, 1971', 'Santa Martha Acatitla', 'Mexico', 'Yes', 'Joel David Kaplan Carlos Antonio Contreras Castro', \"Joel David Kaplan was a New York businessman who had been arrested for murder in 1962 in Mexico City and was incarcerated at the Santa Martha Acatitla prison in the Iztapalapa borough of Mexico City. Joel's sister, Judy Kaplan, arranged the means to help Kaplan escape, and on August 19, 1971, a helicopter landed in the prison yard. The guards mistakenly thought this was an official visit. In two minutes, Kaplan and his cellmate Carlos Antonio Contreras, a Venezuelan counterfeiter, were able to board the craft and were piloted away, before any shots were fired.[9] Both men were flown to Texas and then different planes flew Kaplan to California and Contreras to Guatemala.[3] The Mexican government never initiated extradition proceedings against Kaplan.[9] The escape is told in a book, The 10-Second Jailbreak: The Helicopter Escape of Joel David Kaplan.[4] It also inspired the 1975 action movie Breakout, which starred Charles Bronson and Robert Duvall.[9]\"]\n",
      "['October 31, 1973', 'Mountjoy Jail', 'Ireland', 'Yes', \"JB O'Hagan Seamus Twomey Kevin Mallon\", 'On October 31, 1973, an IRA member hijacked a helicopter and forced the pilot to land in the exercise yard of Dublin\\'s Mountjoy Jail\\'s D Wing at 3:40\\xa0p.m. Three members of the IRA were able to escape: JB O\\'Hagan, Seamus Twomey and Kevin Mallon. Another prisoner who also was in the prison was quoted as saying, \"One shamefaced screw apologised to the governor and said he thought it was the new Minister for Defence (Paddy Donegan) arriving. I told him it was our Minister of Defence leaving.\" The Mountjoy helicopter escape became Republican lore and was immortalized by \"The Helicopter Song\", which contains the lines \"It\\'s up like a bird and over the city. There\\'s three men a\\'missing I heard the warder say\".[1]']\n",
      "['May 24, 1978', 'United States Penitentiary, Marion', 'United States', 'No', 'Garrett Brock Trapnell Martin Joseph McNally James Kenneth Johnson', \"43-year-old Barbara Ann Oswald hijacked a Saint Louis-based charter helicopter and forced the pilot to land in the yard at USP Marion. While landing the aircraft, the pilot, Allen Barklage, who was a Vietnam War veteran, struggled with Oswald and managed to wrestle the gun away from her. Barklage then shot and killed Oswald, thwarting the escape.[10] A few months later Oswald's daughter hijacked TWA Flight 541 in an effort to free Trapnell.\"]\n"
     ]
    }
   ],
   "source": [
    "# Getting the data\n",
    "url = 'https://en.wikipedia.org/wiki/List_of_helicopter_prison_escapes'\n",
    "data = data_from_url(url)\n",
    "\n",
    "# Verifying\n",
    "for row in data[:3]:\n",
    "    print(row)"
   ]
  },
  {
   "cell_type": "markdown",
   "metadata": {},
   "source": [
    "## Clean the Data\n",
    "### 1. Removing the details\n",
    "If you've visited the [Wikipedia Article](https://en.wikipedia.org/wiki/List_of_helicopter_prison_escapes), you'll notice that most of the space on the screen is taken by the last element, the \"Details\" column. To make it easier to look at our data, we're going to get rid of it"
   ]
  },
  {
   "cell_type": "code",
   "execution_count": 9,
   "metadata": {},
   "outputs": [
    {
     "name": "stdout",
     "output_type": "stream",
     "text": [
      "[['August 19, 1971', 'Santa Martha Acatitla', 'Mexico', 'Yes', 'Joel David Kaplan Carlos Antonio Contreras Castro'], ['October 31, 1973', 'Mountjoy Jail', 'Ireland', 'Yes', \"JB O'Hagan Seamus Twomey Kevin Mallon\"], ['May 24, 1978', 'United States Penitentiary, Marion', 'United States', 'No', 'Garrett Brock Trapnell Martin Joseph McNally James Kenneth Johnson']]\n"
     ]
    }
   ],
   "source": [
    "# Removing the last element in each row (the details)\n",
    "for row in data:\n",
    "    row.pop()\n",
    "\n",
    "# Verifying\n",
    "print(data[:3])"
   ]
  },
  {
   "cell_type": "markdown",
   "metadata": {},
   "source": [
    "Alternatively, you could:\n",
    "1. Create a new variable called index and set its value to 0.\n",
    "\n",
    "2. Iterate over each row in data using the iteration variable row.\n",
    "\n",
    "    - Inside the loop, replace the current row in data with row without its last element using the expression data[index] = row[:-1].\n",
    "\n",
    "    - Increment the index variable by 1 to move to the next row.\n",
    "\n",
    "```py\n",
    "index = 0\n",
    "\n",
    "for row in data:\n",
    "    row = row[:-1]\n",
    "    data[index] = row\n",
    "    index += 1\n",
    "```\n",
    "\n",
    "However, my version is more concise as it uses the function `pop()` which specifically removes the last element of a list. If the elements we were removing were not the last on our lists, then we would use the ```.remove()``` method or result to slicing as shown above."
   ]
  },
  {
   "cell_type": "markdown",
   "metadata": {},
   "source": [
    "### 2. Extracting the year\n",
    "You might have also observed that the dates in the dataset are in the format `,` (They are strings with commas, e.g. `'August 19, 1971'`) . We're only interested in the year, a number,  which is easier to conduct statistical analysis on. To achieve this, we'll utilize the helper function `fetch_year()`.\n",
    "\n",
    "`fetch_year('August 19, 1971')` => `1971`"
   ]
  },
  {
   "cell_type": "code",
   "execution_count": 10,
   "metadata": {},
   "outputs": [
    {
     "name": "stdout",
     "output_type": "stream",
     "text": [
      "[[1971, 'Santa Martha Acatitla', 'Mexico', 'Yes', 'Joel David Kaplan Carlos Antonio Contreras Castro'], [1973, 'Mountjoy Jail', 'Ireland', 'Yes', \"JB O'Hagan Seamus Twomey Kevin Mallon\"], [1978, 'United States Penitentiary, Marion', 'United States', 'No', 'Garrett Brock Trapnell Martin Joseph McNally James Kenneth Johnson']]\n"
     ]
    }
   ],
   "source": [
    "# Reformatting the dates into years (ints)\n",
    "for row in data:\n",
    "    row[0] = fetch_year(row[0])\n",
    "\n",
    "print(data[:3])"
   ]
  },
  {
   "cell_type": "markdown",
   "metadata": {},
   "source": [
    "## Attempts per year\n",
    "Our first objective was to find out in which year the most helicopter prison break attempts occured. To do this, we must first know how many attempts occured in each year of our dataset. We'll do this by creating a list of lists, where each inner list contains two elements:\n",
    "1. A year\n",
    "2. The number of attempts that occurred in that corresponding year\n",
    "\n",
    "We'll achieve this by:\n",
    "- Creating a dummy list of lists in the format `[[year, 0]]`\n",
    "- Populating the list of lists"
   ]
  },
  {
   "cell_type": "code",
   "execution_count": 11,
   "metadata": {},
   "outputs": [],
   "source": [
    "# attempts_per_year = [[]]\n",
    "\n",
    "# for row in data:\n",
    "#     for attempt in attempts_per_year:\n",
    "#         if row[0] in attempt:\n",
    "#             attempt[1] += 1\n",
    "#             continue\n",
    "#         else:\n",
    "#             attempts_per_year.append([row[0], 1])\n",
    "\n",
    "# print(attempts_per_year)"
   ]
  },
  {
   "cell_type": "markdown",
   "metadata": {},
   "source": [
    "The code above tortures my processor 😂. It takes hours to execute, but gets my fans running in seconds 💀. However, I've left it here for learning purposes.\n",
    "\n",
    "The code above takes forever to execute, probably because of trying to create a lists of lists from the very start `attempts_per_year = [[]]` **and** using a nested for loop. Further more, we were trying to count the years we encountered in our first lists of lists, `data`, which makes this all the more complicated. Let's take time to break down this code into something easier for the processor to handle."
   ]
  },
  {
   "cell_type": "code",
   "execution_count": 12,
   "metadata": {},
   "outputs": [
    {
     "name": "stdout",
     "output_type": "stream",
     "text": [
      "[[1971, 1], [1972, 0], [1973, 1], [1974, 0], [1975, 0], [1976, 0], [1977, 0], [1978, 1], [1979, 0], [1980, 0], [1981, 2], [1982, 0], [1983, 1], [1984, 0], [1985, 2], [1986, 3], [1987, 1], [1988, 1], [1989, 2], [1990, 1], [1991, 1], [1992, 2], [1993, 1], [1994, 0], [1995, 0], [1996, 1], [1997, 1], [1998, 0], [1999, 1], [2000, 2], [2001, 3], [2002, 2], [2003, 1], [2004, 0], [2005, 2], [2006, 1], [2007, 3], [2008, 0], [2009, 3], [2010, 1], [2011, 0], [2012, 1], [2013, 2], [2014, 1], [2015, 0], [2016, 1], [2017, 0], [2018, 1], [2019, 0], [2020, 1]]\n"
     ]
    }
   ],
   "source": [
    "# Getting the first and the last year prison breaks were registered\n",
    "min_year = min(data, key=lambda x: x[0])[0]\n",
    "max_year = max(data, key=lambda x: x[0])[0]\n",
    "\n",
    "# Getting all the years in between the first year and the last year\n",
    "years = []\n",
    "for year in range(min_year, max_year + 1):\n",
    "    years.append(year)\n",
    "\n",
    "# The list of lists we're interested in\n",
    "attempts_per_year = []\n",
    "\n",
    "# Creating a list for a single year and counting the attempts in that year\n",
    "counts = [\"year\", 0]\n",
    "for year in years:\n",
    "    counts[0] = year\n",
    "    \n",
    "    for row in data:\n",
    "        if year in row:\n",
    "            counts[1] += 1\n",
    "\n",
    "    # appending the list for a single year into our list of interest, thus creating a list of lists\n",
    "    attempts_per_year.append(counts)\n",
    "    counts = [\"year\", 0] # Reseting our list to count the next year\n",
    "    \n",
    "print(attempts_per_year)"
   ]
  },
  {
   "cell_type": "markdown",
   "metadata": {},
   "source": [
    "Sweet relief! This code, although longer, takes 0.0s to execute and gives us our desired lists of lists. Let's waltk through this code.\n",
    "\n",
    "```py\n",
    "# Getting the first and the last year prison breaks were registered\n",
    "min_year = min(data, key=lambda x: x[0])[0]\n",
    "max_year = max(data, key=lambda x: x[0])[0]\n",
    "```\n",
    "The `min()` and `max()` functions get the smallest and the largest value in a dataset, in this case `data`, with the lambda functions specifying to use the first elements of each list in `data` as the sorting criterion.\n",
    "\n",
    "```python\n",
    "# Getting all the years in between the first year and the last year\n",
    "years = []\n",
    "for year in range(min_year, max_year + 1):\n",
    "    years.append(year)\n",
    "```\n",
    "Here, we use a for loop and range function to determine all the years between the smallest year, `min_year`, and the largest year, `max_year` and then putting all of them in a list. We add the `max_year` by one since the range is not inclusive of the last value.\n",
    "\n",
    "Now that we have all the years in the list `years`, counting each of them in `data` becomes easier.\n",
    "\n",
    "```py\n",
    "# The list of lists we're interested in\n",
    "attempts_per_year = []\n",
    "\n",
    "# Creating a list for a single year and counting the attempts in that year\n",
    "counts = [\"year\", 0]\n",
    "for year in years:\n",
    "    counts[0] = year\n",
    "    \n",
    "    for row in data:\n",
    "        if year in row:\n",
    "            counts[1] += 1\n",
    "\n",
    "    # appending the list for a single year into our list of interest, thus creating a list of lists\n",
    "    attempts_per_year.append(counts)\n",
    "    counts = [\"year\", 0] # Reseting our list to count the next year\n",
    "```\n",
    "\n",
    "We create a list called `attempts_per_year = []`. While we intend for this to be a list of lists, we just make it a list for now.\n",
    "\n",
    "We then create another list called `counts`, that (you guessed it), **counts** the number of attempts for a single year.It is in the format `[\"year\", 0]` where the string `\"year\"` is just a placeholder for the years we'll count and `0` represents the number of times a *year* has been counted.\n",
    "\n",
    "We achieve this using a simple nested for loop, the first one looping through the list of `years`; for each year, it replaces the string `\"year\"` with the current year it's at as the loop runs.\n",
    "\n",
    "The second loop, then looks for an occurence of this *year* in our `data` list of lists. Everytime the *year* occurs, we increment the count by 1. \n",
    "\n",
    "We then append `counts`, a list that counts the number of attempts in each year, to the `attempts_per_year` list, making it a list of lists as intended."
   ]
  },
  {
   "cell_type": "markdown",
   "metadata": {},
   "source": []
  }
 ],
 "metadata": {
  "kernelspec": {
   "display_name": "Python 3",
   "language": "python",
   "name": "python3"
  },
  "language_info": {
   "codemirror_mode": {
    "name": "ipython",
    "version": 3
   },
   "file_extension": ".py",
   "mimetype": "text/x-python",
   "name": "python",
   "nbconvert_exporter": "python",
   "pygments_lexer": "ipython3",
   "version": "3.11.2"
  }
 },
 "nbformat": 4,
 "nbformat_minor": 2
}
