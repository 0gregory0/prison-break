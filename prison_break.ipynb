{
 "cells": [
  {
   "cell_type": "markdown",
   "metadata": {},
   "source": [
    "# Prison Break\n",
    "(not the show)\n",
    "\n",
    "---\n",
    "\n",
    "This project explores prison breaks with an intent to learn the following:\n",
    "- Obtaining real data from the internet and preparing it for analysis\n",
    "- Analyzing the data using Python\n",
    "\n",
    "Specifically, we'll answer the following questions:\n",
    "- In which year did the most helicopter prison break attempts occur?\n",
    "- In which countries do the most attempted helicopter prison breaks occur?\n",
    "\n",
    "We'll use Python to create a frequency table showing our results. As seen in the table below, France leads with the highest number of attempted helicopter prison breaks:\n",
    "\n",
    "| Country | Number of Occurrences |\n",
    "| --- | --- |\n",
    "| France | 15 |\n",
    "| United States\t| 8 |\n",
    "| Belgium | 4 |\n",
    "| Canada | 4 |\n",
    "| Greece | 4 |\n",
    "| Australia | 2 |\n",
    "| Brazil | 2 |\n",
    "| United Kingdom | 2 |\n",
    "| Mexico | 1 |\n",
    "| Ireland | 1 |\n",
    "| Italy | 1 |\n",
    "| Puerto Rico | 1 |\n",
    "| Chile\t| 1 |\n",
    "| Netherlands | 1 |\n",
    "| Russia | 1 |\n",
    "\n",
    "As mentioned earlier, this project works with real-life data and we get it straight from a frequently updated [Wikipedia Article](https://en.wikipedia.org/wiki/List_of_helicopter_prison_escapes#Actual_attempts).\n",
    "\n",
    "`helper.py` is a module containing useful \"helper\" functions that we'll need for this project. Let's get into it."
   ]
  },
  {
   "cell_type": "markdown",
   "metadata": {},
   "source": [
    "## Helper functions\n",
    "We begin by importing the helper functions."
   ]
  },
  {
   "cell_type": "code",
   "execution_count": 1,
   "metadata": {},
   "outputs": [],
   "source": [
    "from helper import *"
   ]
  },
  {
   "cell_type": "markdown",
   "metadata": {},
   "source": [
    "## Get the Data\n",
    "Now, let's get the data from the [List of helicopter prison escapes](https://en.wikipedia.org/wiki/List_of_helicopter_prison_escapes) Wikipedia article and print the first three rows."
   ]
  },
  {
   "cell_type": "code",
   "execution_count": 2,
   "metadata": {},
   "outputs": [
    {
     "name": "stdout",
     "output_type": "stream",
     "text": [
      "['August 19, 1971', 'Santa Martha Acatitla', 'Mexico', 'Yes', 'Joel David Kaplan Carlos Antonio Contreras Castro', \"Joel David Kaplan was a New York businessman who had been arrested for murder in 1962 in Mexico City and was incarcerated at the Santa Martha Acatitla prison in the Iztapalapa borough of Mexico City. Joel's sister, Judy Kaplan, arranged the means to help Kaplan escape, and on August 19, 1971, a helicopter landed in the prison yard. The guards mistakenly thought this was an official visit. In two minutes, Kaplan and his cellmate Carlos Antonio Contreras, a Venezuelan counterfeiter, were able to board the craft and were piloted away, before any shots were fired.[9] Both men were flown to Texas and then different planes flew Kaplan to California and Contreras to Guatemala.[3] The Mexican government never initiated extradition proceedings against Kaplan.[9] The escape is told in a book, The 10-Second Jailbreak: The Helicopter Escape of Joel David Kaplan.[4] It also inspired the 1975 action movie Breakout, which starred Charles Bronson and Robert Duvall.[9]\"]\n",
      "['October 31, 1973', 'Mountjoy Jail', 'Ireland', 'Yes', \"JB O'Hagan Seamus Twomey Kevin Mallon\", 'On October 31, 1973, an IRA member hijacked a helicopter and forced the pilot to land in the exercise yard of Dublin\\'s Mountjoy Jail\\'s D Wing at 3:40\\xa0p.m. Three members of the IRA were able to escape: JB O\\'Hagan, Seamus Twomey and Kevin Mallon. Another prisoner who also was in the prison was quoted as saying, \"One shamefaced screw apologised to the governor and said he thought it was the new Minister for Defence (Paddy Donegan) arriving. I told him it was our Minister of Defence leaving.\" The Mountjoy helicopter escape became Republican lore and was immortalized by \"The Helicopter Song\", which contains the lines \"It\\'s up like a bird and over the city. There\\'s three men a\\'missing I heard the warder say\".[1]']\n",
      "['May 24, 1978', 'United States Penitentiary, Marion', 'United States', 'No', 'Garrett Brock Trapnell Martin Joseph McNally James Kenneth Johnson', \"43-year-old Barbara Ann Oswald hijacked a Saint Louis-based charter helicopter and forced the pilot to land in the yard at USP Marion. While landing the aircraft, the pilot, Allen Barklage, who was a Vietnam War veteran, struggled with Oswald and managed to wrestle the gun away from her. Barklage then shot and killed Oswald, thwarting the escape.[10] A few months later Oswald's daughter hijacked TWA Flight 541 in an effort to free Trapnell.\"]\n"
     ]
    }
   ],
   "source": [
    "url = 'https://en.wikipedia.org/wiki/List_of_helicopter_prison_escapes'\n",
    "data = data_from_url(url)\n",
    "\n",
    "for row in data[:3]:\n",
    "    print(row)"
   ]
  },
  {
   "cell_type": "markdown",
   "metadata": {},
   "source": [
    "## Clean the Data\n",
    "### 1. Removing the details\n",
    "If you've visited the [Wikipedia Article](https://en.wikipedia.org/wiki/List_of_helicopter_prison_escapes), you'll notice that most of the space on the screen is taken by the last element, the \"Details\" column. To make it easier to look at our data, we're going to get rid of it"
   ]
  },
  {
   "cell_type": "code",
   "execution_count": 3,
   "metadata": {},
   "outputs": [
    {
     "name": "stdout",
     "output_type": "stream",
     "text": [
      "[['August 19, 1971', 'Santa Martha Acatitla', 'Mexico', 'Yes', 'Joel David Kaplan Carlos Antonio Contreras Castro'], ['October 31, 1973', 'Mountjoy Jail', 'Ireland', 'Yes', \"JB O'Hagan Seamus Twomey Kevin Mallon\"], ['May 24, 1978', 'United States Penitentiary, Marion', 'United States', 'No', 'Garrett Brock Trapnell Martin Joseph McNally James Kenneth Johnson']]\n"
     ]
    }
   ],
   "source": [
    "for row in data:\n",
    "    row.pop()\n",
    "\n",
    "print(data[:3])"
   ]
  },
  {
   "cell_type": "markdown",
   "metadata": {},
   "source": [
    "Alternatively, you could:\n",
    "1. Create a new variable called index and set its value to 0.\n",
    "\n",
    "2. Iterate over each row in data using the iteration variable row.\n",
    "\n",
    "    - Inside the loop, replace the current row in data with row without its last element using the expression data[index] = row[:-1].\n",
    "\n",
    "    - Increment the index variable by 1 to move to the next row.\n",
    "\n",
    "```py\n",
    "index = 0\n",
    "\n",
    "for row in data:\n",
    "    row = row[:-1]\n",
    "    data[index] = row\n",
    "    index += 1\n",
    "```\n",
    "\n",
    "However, my version is more concise as it uses the function `pop()` which specifically removes the last element of a list. If the elements we were removing were not the last on our lists, then we would use the ```.remove()``` method or result to slicing as shown above."
   ]
  },
  {
   "cell_type": "markdown",
   "metadata": {},
   "source": [
    "### 2. Extracting the year\n",
    "You might have also observed that the dates in the dataset are in the format `,` (They are strings with commas, e.g. `'August 19, 1971'`) . We're only interested in the year, a number,  which is easier to conduct statistical analysis on. To achieve this, we'll utilize the helper function `fetch_year()`.\n",
    "\n",
    "`fetch_year('August 19, 1971')` => `1971`"
   ]
  },
  {
   "cell_type": "code",
   "execution_count": 4,
   "metadata": {},
   "outputs": [
    {
     "name": "stdout",
     "output_type": "stream",
     "text": [
      "[[1971, 'Santa Martha Acatitla', 'Mexico', 'Yes', 'Joel David Kaplan Carlos Antonio Contreras Castro'], [1973, 'Mountjoy Jail', 'Ireland', 'Yes', \"JB O'Hagan Seamus Twomey Kevin Mallon\"], [1978, 'United States Penitentiary, Marion', 'United States', 'No', 'Garrett Brock Trapnell Martin Joseph McNally James Kenneth Johnson']]\n"
     ]
    }
   ],
   "source": [
    "for row in data:\n",
    "    row[0] = fetch_year(row[0])\n",
    "\n",
    "print(data[:3])"
   ]
  },
  {
   "cell_type": "markdown",
   "metadata": {},
   "source": [
    "## Attempts per year\n",
    "Our first objective was to find out in which year the most helicopter prison break attempts occured. To do this, we must first know how many attempts occured in each year of our dataset. We'll do this by creating a list of lists, where each inner list contains two elements:\n",
    "1. A year\n",
    "2. The number of attempts that occurred in that corresponding year\n",
    "\n",
    "We'll achieve this by:\n",
    "- Creating a dummy list of lists in the format `[[year, 0]]`\n",
    "- Populating the list of lists"
   ]
  },
  {
   "cell_type": "code",
   "execution_count": 7,
   "metadata": {},
   "outputs": [],
   "source": [
    "# attempts_per_year = [[]]\n",
    "\n",
    "# for row in data:\n",
    "#     for attempt in attempts_per_year:\n",
    "#         if row[0] in attempt:\n",
    "#             attempt[1] += 1\n",
    "#             continue\n",
    "#         else:\n",
    "#             attempts_per_year.append([row[0], 1])\n",
    "\n",
    "# print(attempts_per_year)"
   ]
  }
 ],
 "metadata": {
  "kernelspec": {
   "display_name": "Python 3",
   "language": "python",
   "name": "python3"
  },
  "language_info": {
   "codemirror_mode": {
    "name": "ipython",
    "version": 3
   },
   "file_extension": ".py",
   "mimetype": "text/x-python",
   "name": "python",
   "nbconvert_exporter": "python",
   "pygments_lexer": "ipython3",
   "version": "3.11.2"
  }
 },
 "nbformat": 4,
 "nbformat_minor": 2
}
